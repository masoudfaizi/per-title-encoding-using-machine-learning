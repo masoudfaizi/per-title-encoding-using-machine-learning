{
 "cells": [
  {
   "cell_type": "markdown",
   "metadata": {},
   "source": [
    "# Demo"
   ]
  },
  {
   "cell_type": "markdown",
   "metadata": {},
   "source": [
    "## Artifically generated encode data"
   ]
  },
  {
   "cell_type": "code",
   "execution_count": 1,
   "metadata": {},
   "outputs": [],
   "source": [
    "def generate_data(data, bit_rate_step=50, max_bitrate = 2500, min_birate = 50, widths=[1280,  960, 1920,  640,  416,  768], heights = [720,  540, 1080,  360,  234,  432], col_names=['e_height','e_width', 't_average_bitrate']):\n",
    "    generated=pd.DataFrame()\n",
    "    for bitrate in range(min_birate,max_bitrate,bit_rate_step):\n",
    "        for width in widths:\n",
    "            for height in heights:\n",
    "                data[col_names[0]]=height\n",
    "                data[col_names[1]]=width\n",
    "                data[col_names[2]]=bitrate\n",
    "                generated = generated.append(data, ignore_index = True)\n",
    "    return generated\n"
   ]
  },
  {
   "cell_type": "markdown",
   "metadata": {},
   "source": [
    "## Highest VMAF value & Getting Encode ladder"
   ]
  },
  {
   "cell_type": "code",
   "execution_count": 2,
   "metadata": {},
   "outputs": [],
   "source": [
    "def get_data_at_highest_vmaf_per_bps(data):\n",
    "    best_per_bitrate = pd.DataFrame(columns = data.columns)\n",
    "    for bitrate in data['t_average_bitrate'].unique():\n",
    "        df_tmp = data[data['t_average_bitrate']==bitrate]\n",
    "        best_vmaf = df_tmp[df_tmp['t_average_vmaf']==df_tmp['t_average_vmaf'].max()]\n",
    "        best_per_bitrate = best_per_bitrate.append(best_vmaf)\n",
    "    return best_per_bitrate\n",
    "\n",
    "def get_encoding_latter(best_per_bitrate):\n",
    "    sorted_df = best_per_bitrate.sort_values('t_average_vmaf')\n",
    "    jnd_df = pd.DataFrame(sorted_df.head(n=1))\n",
    "    for i in range(1,len(sorted_df)):\n",
    "        if not (sorted_df.iloc[i,-1]-jnd_df.iloc[-1,-1])<6:\n",
    "            jnd_df = jnd_df.append(sorted_df.iloc[i,:], ignore_index = True)\n",
    "    return jnd_df\n"
   ]
  },
  {
   "cell_type": "markdown",
   "metadata": {},
   "source": [
    "# Trained Model - Random Forest Regressor"
   ]
  },
  {
   "cell_type": "code",
   "execution_count": 4,
   "metadata": {},
   "outputs": [
    {
     "name": "stdout",
     "output_type": "stream",
     "text": [
      "Mean Absolute Error: 2.2414\n",
      "Mean Squared Error: 11.7897\n",
      "Root Mean Squared Error: 3.4336\n",
      "  e_width e_height t_average_bitrate\n",
      "0     640      360                50\n",
      "1     768      432               100\n",
      "2     768      432               150\n",
      "3     960      540               250\n",
      "4     960      540               400\n",
      "5    1280      720               550\n",
      "6    1920     1080               800\n",
      "7    1920     1080              1950\n"
     ]
    }
   ],
   "source": [
    "import pandas as pd\n",
    "import numpy as np\n",
    "from sklearn.ensemble import RandomForestRegressor\n",
    "from sklearn import metrics\n",
    "import warnings\n",
    "warnings.filterwarnings(\"ignore\")\n",
    "\n",
    "X_train = pd.read_csv('data/training_data/X_train.csv')\n",
    "X_train.drop('id', axis = 1, inplace=True)\n",
    "y_train = pd.read_csv('data/training_data/y_train.csv')\n",
    "y_train.drop('id', axis = 1, inplace=True)\n",
    "X_test = pd.read_csv('data/test_data/X_test.csv')\n",
    "X_test.drop('id', axis = 1, inplace=True)\n",
    "y_test = pd.read_csv('data/test_data/y_test.csv')\n",
    "y_test.drop('id', axis = 1, inplace=True)\n",
    "\n",
    "#fill na training data\n",
    "X_train = X_train.apply(lambda x: x.fillna(x.mean()),axis=0)\n",
    "X_test = X_test.apply(lambda x: x.fillna(x.mean()),axis=0)\n",
    "\n",
    "#drop variables that worsen prediction\n",
    "X_train.drop(['s_storage_size', 's_duration'], axis = 1, inplace=True)\n",
    "X_test.drop(['s_storage_size', 's_duration'], axis = 1, inplace=True)\n",
    "\n",
    "regr = RandomForestRegressor(max_depth=25, random_state=0)\n",
    "regr.fit(X_train, y_train)\n",
    "\n",
    "y_pred = regr.predict(X_test)\n",
    "#print(y_pred)\n",
    "\n",
    "#have a look at the results:\n",
    "print('Mean Absolute Error: %.4f' % metrics.mean_absolute_error(y_test, y_pred))\n",
    "print('Mean Squared Error: %.4f' % metrics.mean_squared_error(y_test, y_pred))\n",
    "print('Root Mean Squared Error: %.4f' % np.sqrt(metrics.mean_squared_error(y_test, y_pred)))\n",
    "\n",
    "\n",
    "# artifical \"new\" movie instance \n",
    "new_instance = X_test.head(n=1)\n",
    "\n",
    "#generate the bitrates and resolutions in a step of bps\n",
    "new_data = generate_data(new_instance)\n",
    "\n",
    "#predict \n",
    "y_pred_new_data = regr.predict(new_data)\n",
    "new_data['t_average_vmaf'] = y_pred_new_data\n",
    "\n",
    "#get highest vmaf at each resolution \n",
    "best_encodings_per_bitrate = get_data_at_highest_vmaf_per_bps(new_data)\n",
    "\n",
    "#get those with a minimum of 6 vmaf score difference (=1 jnds)\n",
    "encoding_df = get_encoding_latter(best_encodings_per_bitrate)\n",
    "\n",
    "#check when (at which bps) to switch resolution and to which resolution\n",
    "print(encoding_df[['e_width', 'e_height', 't_average_bitrate']])"
   ]
  },
  {
   "cell_type": "code",
   "execution_count": null,
   "metadata": {},
   "outputs": [],
   "source": []
  }
 ],
 "metadata": {
  "kernelspec": {
   "display_name": "Python 3",
   "language": "python",
   "name": "python3"
  },
  "language_info": {
   "codemirror_mode": {
    "name": "ipython",
    "version": 3
   },
   "file_extension": ".py",
   "mimetype": "text/x-python",
   "name": "python",
   "nbconvert_exporter": "python",
   "pygments_lexer": "ipython3",
   "version": "3.7.6"
  }
 },
 "nbformat": 4,
 "nbformat_minor": 4
}

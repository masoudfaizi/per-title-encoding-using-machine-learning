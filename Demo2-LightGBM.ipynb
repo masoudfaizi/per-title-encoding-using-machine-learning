{
 "cells": [
  {
   "cell_type": "markdown",
   "metadata": {},
   "source": [
    "# Demo 2"
   ]
  },
  {
   "cell_type": "markdown",
   "metadata": {},
   "source": [
    "## Artifically generated encode data"
   ]
  },
  {
   "cell_type": "code",
   "execution_count": 20,
   "metadata": {},
   "outputs": [],
   "source": [
    "def generate_data(data, bit_rate_step=50, max_bitrate = 8000, min_birate = 50, widths=[1920,1280,  960, 768, 640,  416], heights = [1080,720, 540, 432, 360, 234], col_names=['e_height','e_width', 't_average_bitrate']):\n",
    "    generated=pd.DataFrame()\n",
    "    for bitrate in range(min_birate,max_bitrate,bit_rate_step):\n",
    "        for i in range (len(widths)):\n",
    "            data[col_names[0]]=heights[i]\n",
    "            data[col_names[1]]=widths[i]\n",
    "            data[col_names[2]]=bitrate\n",
    "            generated = generated.append(data, ignore_index = True)\n",
    "    return generated"
   ]
  },
  {
   "cell_type": "markdown",
   "metadata": {},
   "source": [
    "## Highest VMAF value & Getting Encode ladder"
   ]
  },
  {
   "cell_type": "code",
   "execution_count": 2,
   "metadata": {},
   "outputs": [],
   "source": [
    "def get_data_at_highest_vmaf_per_bps(data):\n",
    "    best_per_bitrate = pd.DataFrame(columns = data.columns)\n",
    "    for bitrate in data['t_average_bitrate'].unique():\n",
    "        df_tmp = data[data['t_average_bitrate']==bitrate]\n",
    "        best_vmaf = df_tmp[df_tmp['t_average_vmaf']==df_tmp['t_average_vmaf'].max()]\n",
    "        best_per_bitrate = best_per_bitrate.append(best_vmaf)\n",
    "    return best_per_bitrate\n",
    "\n",
    "def get_encoding_latter(best_per_bitrate):\n",
    "    sorted_df = best_per_bitrate.sort_values('t_average_vmaf')\n",
    "    jnd_df = pd.DataFrame(sorted_df.head(n=1))\n",
    "    for i in range(1,len(sorted_df)):\n",
    "        if not (sorted_df.iloc[i,-1]-jnd_df.iloc[-1,-1])<6:\n",
    "            jnd_df = jnd_df.append(sorted_df.iloc[i,:], ignore_index = True)\n",
    "    return jnd_df\n"
   ]
  },
  {
   "cell_type": "markdown",
   "metadata": {},
   "source": [
    "# The Best Model - Light GBM"
   ]
  },
  {
   "cell_type": "code",
   "execution_count": 3,
   "metadata": {
    "scrolled": true
   },
   "outputs": [
    {
     "name": "stdout",
     "output_type": "stream",
     "text": [
      "Best parameters found by grid search are: {'learning_rate': 0.1, 'max_depth': 20, 'n_estimators': 9000, 'num_leaves': 20}\n",
      "Mean Absolute Error: 0.8625\n",
      "Mean Squared Error: 1.9659\n",
      "Root Mean Squared Error: 1.4021\n",
      "R2 score:0.9980\n"
     ]
    }
   ],
   "source": [
    "import numpy as np\n",
    "import pandas as pd\n",
    "from sklearn import metrics\n",
    "from sklearn.metrics import mean_squared_error\n",
    "from sklearn.metrics import r2_score\n",
    "import lightgbm as lgb\n",
    "from sklearn.model_selection import GridSearchCV\n",
    "#from data_generation import generate_data\n",
    "#import finding_resolutions\n",
    "from scipy.spatial import ConvexHull, convex_hull_plot_2d\n",
    "import matplotlib.pyplot as plt\n",
    "import warnings\n",
    "warnings.filterwarnings(\"ignore\")\n",
    "\n",
    "X_train = pd.read_csv('data/training_data/X_train.csv')\n",
    "X_train.drop('id', axis = 1, inplace=True)\n",
    "y_train = pd.read_csv('data/training_data/y_train.csv')\n",
    "y_train.drop('id', axis = 1, inplace=True)\n",
    "X_test = pd.read_csv('data/test_data/X_test.csv')\n",
    "X_test.drop('id', axis = 1, inplace=True)\n",
    "y_test = pd.read_csv('data/test_data/y_test.csv')\n",
    "y_test.drop('id', axis = 1, inplace=True)\n",
    "\n",
    "#fill na training data\n",
    "X_train = X_train.apply(lambda x: x.fillna(x.mean()),axis=0)\n",
    "X_test = X_test.apply(lambda x: x.fillna(x.mean()),axis=0)\n",
    "\n",
    "#drop variables that worsen prediction\n",
    "X_train.drop(['s_storage_size', 's_duration'], axis = 1, inplace=True)\n",
    "X_test.drop(['s_storage_size', 's_duration'], axis = 1, inplace=True)\n",
    "\n",
    "\n",
    "estimator = lgb.LGBMRegressor()\n",
    "\n",
    "# this is the way I tested which parametes might be the best ones - in the end I only kept those inside the grid which produced the best results\n",
    "#I stopped at 9000 estimators because with the improvement with 9000 regarding MSE etc. was too little and R^2 did not improve at all anymore\n",
    "param_grid = {\n",
    "    'max_depth': [20],\n",
    "    'num_leaves': [20],\n",
    "    'learning_rate': [0.1],\n",
    "    'n_estimators': [9000]\n",
    "}\n",
    "\n",
    "gbm = GridSearchCV(estimator, param_grid, cv=3)\n",
    "gbm.fit(X_train, y_train)\n",
    "\n",
    "print('Best parameters found by grid search are:', gbm.best_params_)\n",
    "y_pred = gbm.predict(X_test)\n",
    "\n",
    "\n",
    "# have a look at the results:\n",
    "print('Mean Absolute Error: %.4f' %\n",
    "      metrics.mean_absolute_error(y_test, y_pred))\n",
    "print('Mean Squared Error: %.4f' % metrics.mean_squared_error(y_test, y_pred))\n",
    "print('Root Mean Squared Error: %.4f' %\n",
    "      np.sqrt(metrics.mean_squared_error(y_test, y_pred)))\n",
    "print('R2 score:%.4f' % r2_score(y_test, y_pred))"
   ]
  },
  {
   "cell_type": "markdown",
   "metadata": {},
   "source": [
    "## Artifical \"new\" movie instance"
   ]
  },
  {
   "cell_type": "code",
   "execution_count": 4,
   "metadata": {},
   "outputs": [
    {
     "name": "stdout",
     "output_type": "stream",
     "text": [
      "   e_width e_height t_average_bitrate\n",
      "0      416      234                50\n",
      "1      640      360               100\n",
      "2      640      360               150\n",
      "3      640      360               200\n",
      "4      640      360               250\n",
      "5      640      360               300\n",
      "6      768      432               400\n",
      "7      768      432               500\n",
      "8      768      432               650\n",
      "9      768      432               850\n",
      "10     768      432              1150\n",
      "11     960      540              1650\n",
      "12    1280      720              2500\n",
      "13    1280      720              6050\n"
     ]
    }
   ],
   "source": [
    " data = pd.read_csv('data/data_for_visualization/movie_with_id_12.csv')\n",
    "\n",
    "#generate the bitrates and resolutions for every step of bps\n",
    "new_data = generate_data(data.head(n=1))\n",
    "new_data = new_data[X_train.columns]\n",
    "\n",
    "#predict \n",
    "y_pred_new_data = gbm.predict(new_data)\n",
    "new_data['t_average_vmaf'] = y_pred_new_data\n",
    "\n",
    "#get highest vmaf at each resolution \n",
    "best_encodings_per_bitrate = get_data_at_highest_vmaf_per_bps(new_data)\n",
    "\n",
    "#get those with a minimum of 6 vmaf score difference (=1 jnds)\n",
    "encoding_df = get_encoding_latter(best_encodings_per_bitrate)\n",
    "\n",
    "#check when (at which bps) to switch resolution and to which resolution\n",
    "print(encoding_df[['e_width', 'e_height', 't_average_bitrate']])"
   ]
  },
  {
   "cell_type": "markdown",
   "metadata": {},
   "source": [
    "## VISUALIZATION PART"
   ]
  },
  {
   "cell_type": "code",
   "execution_count": 5,
   "metadata": {},
   "outputs": [
    {
     "data": {
      "text/plain": [
       "e_width  e_height\n",
       "416      234         14\n",
       "640      360         13\n",
       "768      432         13\n",
       "960      540         13\n",
       "1280     720         13\n",
       "1920     1080        12\n",
       "dtype: int64"
      ]
     },
     "execution_count": 5,
     "metadata": {},
     "output_type": "execute_result"
    }
   ],
   "source": [
    "#get the x,y values from the predicted convex hull\n",
    "x_new=best_encodings_per_bitrate['t_average_bitrate']\n",
    "y_new=best_encodings_per_bitrate['t_average_vmaf']\n",
    "\n",
    "\n",
    "all_points =[]\n",
    "unique_resoultion = data.groupby(['e_width', 'e_height'], as_index = False).size()\n",
    "unique_resoultion\n",
    "# fig=plt.figure(figsize=(10,5))\n",
    "# ax = plt.subplot(111)\n",
    "# for x in unique_resoultion.index[:]:\n",
    "#     width,height = x\n",
    "    \n",
    "#     x_bitrate = sorted(data['t_average_bitrate'][(data['e_width']==width) & (data['e_height']==height)])\n",
    "#     y_vmaf = sorted(data['t_average_vmaf'][(data['e_width']==width) & (data['e_height']==height)])\n",
    "#     for i in range(len(x_bitrate)):\n",
    "#         all_points.append([x_bitrate[i], y_vmaf[i]])\n",
    "    \n",
    "#     ax.plot(x_bitrate, y_vmaf, label = '{} X {}'.format(width,height))\n",
    "\n",
    "# #plot convex hull of the actual data\n",
    "# all_points = np.array(all_points)\n",
    "# hull = ConvexHull(all_points)\n",
    "# for simplex in hull.simplices:\n",
    "#     ax.plot(all_points[simplex, 0], all_points[simplex, 1], 'k-')\n",
    "\n",
    "# #plot predicted convex hull\n",
    "# ax.plot(x_new,y_new, color = 'fuchsia', label = \"predicted convex hall\")\n",
    "# plt.xlabel(\"Bitrate\")\n",
    "# plt.ylabel(\"VMAF\")\n",
    "# ax.legend()\n",
    "# plt.xlim(0,9000)\n",
    "# plt.show()\n"
   ]
  },
  {
   "cell_type": "code",
   "execution_count": 6,
   "metadata": {},
   "outputs": [
    {
     "data": {
      "image/png": "[encoded data removed]",
      "text/plain": [
       "<Figure size 720x360 with 1 Axes>"
      ]
     },
     "metadata": {
      "needs_background": "light"
     },
     "output_type": "display_data"
    }
   ],
   "source": [
    "fig=plt.figure(figsize=(10,5))\n",
    "ax = plt.subplot(111)\n",
    "for x in unique_resoultion.index[:]:\n",
    "    width,height = x\n",
    "    x_bitrate = sorted(data['t_average_bitrate'][(data['e_width']==width) & (data['e_height']==height)])\n",
    "    y_vmaf = sorted(data['t_average_vmaf'][(data['e_width']==width) & (data['e_height']==height)])\n",
    "    for i in range(len(x_bitrate)):\n",
    "        all_points.append([x_bitrate[i], y_vmaf[i]])\n",
    "    \n",
    "    ax.plot(x_bitrate, y_vmaf, label = '{} X {}'.format(width,height))\n",
    "\n",
    "#plot convex hull of the actual data\n",
    "all_points = np.array(all_points)\n",
    "hull = ConvexHull(all_points)\n",
    "for simplex in hull.simplices:\n",
    "    ax.plot(all_points[simplex, 0], all_points[simplex, 1], 'k-')\n",
    "\n",
    "#plot predicted convex hull\n",
    "ax.plot(x_new,y_new, color = 'fuchsia', label = \"predicted convex hall\")\n",
    "plt.xlabel(\"Bitrate\")\n",
    "plt.ylabel(\"VMAF\")\n",
    "ax.legend()\n",
    "plt.xlim(0,9000)\n",
    "plt.show()\n"
   ]
  },
  {
   "cell_type": "code",
   "execution_count": null,
   "metadata": {},
   "outputs": [],
   "source": []
  }
 ],
 "metadata": {
  "kernelspec": {
   "display_name": "Python 3",
   "language": "python",
   "name": "python3"
  },
  "language_info": {
   "codemirror_mode": {
    "name": "ipython",
    "version": 3
   },
   "file_extension": ".py",
   "mimetype": "text/x-python",
   "name": "python",
   "nbconvert_exporter": "python",
   "pygments_lexer": "ipython3",
   "version": "3.7.6"
  }
 },
 "nbformat": 4,
 "nbformat_minor": 4
}
